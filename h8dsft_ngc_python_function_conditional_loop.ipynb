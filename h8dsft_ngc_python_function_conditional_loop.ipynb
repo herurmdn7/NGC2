{
 "cells": [
  {
   "cell_type": "markdown",
   "metadata": {},
   "source": [
    "## Non Graded Challenge ##"
   ]
  },
  {
   "cell_type": "markdown",
   "metadata": {},
   "source": [
    "### Task 1 number of word ###"
   ]
  },
  {
   "cell_type": "markdown",
   "metadata": {},
   "source": [
    "Create a function that count the number of word in a sentence."
   ]
  },
  {
   "cell_type": "code",
   "execution_count": 5,
   "metadata": {},
   "outputs": [
    {
     "name": "stdout",
     "output_type": "stream",
     "text": [
      "5\n"
     ]
    }
   ],
   "source": [
    "def number_of_word(sentence) :\n",
    "    number_of_word = len(sentence.split()) \n",
    "    return number_of_word\n",
    "\n",
    "print(number_of_word('Hello World its me mario'))\n"
   ]
  },
  {
   "cell_type": "markdown",
   "metadata": {},
   "source": [
    "### Task 2 Find Multiple ###"
   ]
  },
  {
   "cell_type": "markdown",
   "metadata": {},
   "source": [
    "Create a function that will get list of number(s) from a certain range that multiples of given number."
   ]
  },
  {
   "cell_type": "code",
   "execution_count": 26,
   "metadata": {},
   "outputs": [
    {
     "name": "stdout",
     "output_type": "stream",
     "text": [
      "[5, 10, 15, 20]\n"
     ]
    }
   ],
   "source": [
    "def find_multiples(start_range, end_range, multiple) :\n",
    "    multiple_list = []\n",
    "    current_number = start_range\n",
    "    while current_number <= end_range :\n",
    "        if current_number % multiple == 0 :\n",
    "            multiple_list.append(current_number)\n",
    "        current_number += 1\n",
    "    return multiple_list\n",
    "\n",
    "print(find_multiples(1, 20, 5))"
   ]
  },
  {
   "cell_type": "markdown",
   "metadata": {},
   "source": [
    "### Task 3 Grade Converter ###"
   ]
  },
  {
   "cell_type": "markdown",
   "metadata": {},
   "source": [
    "Create a function that will convert student’s grade to GPA."
   ]
  },
  {
   "cell_type": "code",
   "execution_count": 51,
   "metadata": {},
   "outputs": [],
   "source": [
    "def Grade_converter(convert_to, **students) :\n",
    "    # mengecek nilai siswa satu persatu\n",
    "    for student, grade in students.items() :\n",
    "        if grade > 85 :\n",
    "            if convert_to == 'gpa' :\n",
    "                students[student] = '4.0'\n",
    "            else :\n",
    "                students[student] = 'A'\n",
    "        elif grade > 70 :\n",
    "            if convert_to == 'gpa' :\n",
    "                students[student] = '3.0'\n",
    "            else :\n",
    "                students[student] = 'B'\n",
    "        elif grade > 60 :\n",
    "            if convert_to == 'gpa' :\n",
    "                students[student] = '2.5'\n",
    "            else :\n",
    "                students[student] = 'C'\n",
    "        elif grade > 50 :\n",
    "            if convert_to == 'gpa' :\n",
    "                students[student] = '2.0'\n",
    "            else :\n",
    "                students[student] = 'D'\n",
    "        elif grade > 40 :\n",
    "            if convert_to == 'gpa' :\n",
    "                students[student] = '1.5'\n",
    "            else :\n",
    "                students[student] = 'E'\n",
    "        elif grade > 0 :\n",
    "            if convert_to == 'gpa' :\n",
    "                students[student] = '1.0'\n",
    "            else :\n",
    "                students[student] = 'F'\n",
    "                \n",
    "    return students\n",
    "            \n",
    "    "
   ]
  },
  {
   "cell_type": "code",
   "execution_count": 52,
   "metadata": {},
   "outputs": [
    {
     "data": {
      "text/plain": [
       "{'Adam': '2.5', 'Faiz': '4.0'}"
      ]
     },
     "execution_count": 52,
     "metadata": {},
     "output_type": "execute_result"
    }
   ],
   "source": [
    "Grade_converter(convert_to='gpa', Adam=62, Faiz=91)"
   ]
  },
  {
   "cell_type": "markdown",
   "metadata": {},
   "source": [
    "### Task 4 Fibonacci sequence ###"
   ]
  },
  {
   "cell_type": "code",
   "execution_count": 9,
   "metadata": {},
   "outputs": [],
   "source": [
    "def my_function(n) :\n",
    "    fib_seq = [0, 1]\n",
    "    if n <= 1 :\n",
    "        return fib_seq[n]\n",
    "    else :\n",
    "        for index in range(2, n+1) :\n",
    "            fib_number = fib_seq[index-1] + fib_seq[index-2]\n",
    "            fib_seq.append(fib_number)\n",
    "\n",
    "        return fib_seq[n]"
   ]
  },
  {
   "cell_type": "code",
   "execution_count": 10,
   "metadata": {},
   "outputs": [
    {
     "data": {
      "text/plain": [
       "5"
      ]
     },
     "execution_count": 10,
     "metadata": {},
     "output_type": "execute_result"
    }
   ],
   "source": [
    "my_function(5)"
   ]
  }
 ],
 "metadata": {
  "kernelspec": {
   "display_name": "base",
   "language": "python",
   "name": "python3"
  },
  "language_info": {
   "codemirror_mode": {
    "name": "ipython",
    "version": 3
   },
   "file_extension": ".py",
   "mimetype": "text/x-python",
   "name": "python",
   "nbconvert_exporter": "python",
   "pygments_lexer": "ipython3",
   "version": "3.9.19"
  }
 },
 "nbformat": 4,
 "nbformat_minor": 2
}
